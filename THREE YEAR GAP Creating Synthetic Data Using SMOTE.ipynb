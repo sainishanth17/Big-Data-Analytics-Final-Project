{
 "cells": [
  {
   "cell_type": "markdown",
   "id": "f1f31c67",
   "metadata": {},
   "source": [
    "Now that we have added synthesised data to our data set where feature and response variable values come from the same year, we will now do the same to the data where there is a three year gap between crime rate and attribute values, once again using SMOTE.\n",
    "In this case, as we do not have response variable values for the test set, we will run only obtain synthesised data for the train set."
   ]
  },
  {
   "cell_type": "code",
   "execution_count": 1,
   "id": "7d96f4ef",
   "metadata": {},
   "outputs": [],
   "source": [
    "import imblearn\n",
    "from imblearn.over_sampling import SMOTE\n",
    "import numpy as np\n",
    "import pandas as pd\n",
    "from collections import Counter\n",
    "from matplotlib import pyplot\n",
    "from sklearn.preprocessing import LabelEncoder\n"
   ]
  },
  {
   "cell_type": "code",
   "execution_count": 2,
   "id": "9940b47c",
   "metadata": {},
   "outputs": [],
   "source": [
    "Test = pd.read_csv('/Users/alyzehjiwani/Downloads/Data/Final Data Used/Crime_Data_Year_Gap_Test.csv')\n",
    "Train = pd.read_csv('/Users/alyzehjiwani/Downloads/Data/Final Data Used/Crime_Data_Year_Gap_Train.csv')\n",
    "Train = Train.drop('Unnamed: 0',axis = 1)\n",
    "Test = Test.drop('Unnamed: 0',axis = 1)"
   ]
  },
  {
   "cell_type": "markdown",
   "id": "229360dd",
   "metadata": {},
   "source": [
    "We will merge the two sets so that we dont have to run the SMOTE process twice, we dshould just be sure to remember that the train set is all the data points from the year 2019n onwards."
   ]
  },
  {
   "cell_type": "code",
   "execution_count": 10,
   "id": "b8c42747",
   "metadata": {},
   "outputs": [],
   "source": [
    "C_Rate_Int = []\n",
    "for i in range(len(Train)):\n",
    "    if (Train['C_Rate'][i] == 'Very Low'):\n",
    "        C_Rate_Int.append(0)\n",
    "    if (Train['C_Rate'][i] == 'Low'):\n",
    "        C_Rate_Int.append(1)\n",
    "    if (Train['C_Rate'][i] == 'Medium'):\n",
    "        C_Rate_Int.append(2)\n",
    "    if (Train['C_Rate'][i] == 'High'):\n",
    "        C_Rate_Int.append(3)\n",
    "    if (Train['C_Rate'][i] == 'Very High'):\n",
    "        C_Rate_Int.append(4)\n",
    "\n",
    "Train['C_Rate_Int'] = C_Rate_Int"
   ]
  },
  {
   "cell_type": "code",
   "execution_count": 11,
   "id": "ed795ddf",
   "metadata": {},
   "outputs": [],
   "source": [
    "Train_1 = Train.values"
   ]
  },
  {
   "cell_type": "markdown",
   "id": "b1a53612",
   "metadata": {},
   "source": [
    "Now we split the data into the independent features and the dependent variable"
   ]
  },
  {
   "cell_type": "code",
   "execution_count": 13,
   "id": "0eeb1cc1",
   "metadata": {},
   "outputs": [],
   "source": [
    "Train_y = Train_1[:,-1]\n",
    "Train_X = np.delete(Train_1,[3,-1],axis = 1)"
   ]
  },
  {
   "cell_type": "markdown",
   "id": "9d007084",
   "metadata": {},
   "source": [
    "Now we label encode the target variable and summarise the distribution of our class values"
   ]
  },
  {
   "cell_type": "code",
   "execution_count": 14,
   "id": "84eabbac",
   "metadata": {},
   "outputs": [],
   "source": [
    "Train_y = LabelEncoder().fit_transform(Train_y)"
   ]
  },
  {
   "cell_type": "code",
   "execution_count": 15,
   "id": "bac45fe2",
   "metadata": {},
   "outputs": [
    {
     "name": "stdout",
     "output_type": "stream",
     "text": [
      "Class=0, n=57 (8.143%)\n",
      "Class=3, n=177 (25.286%)\n",
      "Class=2, n=192 (27.429%)\n",
      "Class=1, n=162 (23.143%)\n",
      "Class=4, n=112 (16.000%)\n"
     ]
    }
   ],
   "source": [
    "counter = Counter(Train_y)\n",
    "for k,v in counter.items():\n",
    "    per = v/len(Train_y)*100\n",
    "    print('Class=%d, n=%d (%.3f%%)' % (k,v,per))"
   ]
  },
  {
   "cell_type": "markdown",
   "id": "693a0783",
   "metadata": {},
   "source": [
    "Now we plot the distribution of the classes"
   ]
  },
  {
   "cell_type": "code",
   "execution_count": 16,
   "id": "f159a62d",
   "metadata": {},
   "outputs": [
    {
     "data": {
      "image/png": "[encoded data removed]",
      "text/plain": [
       "<Figure size 432x288 with 1 Axes>"
      ]
     },
     "metadata": {
      "needs_background": "light"
     },
     "output_type": "display_data"
    }
   ],
   "source": [
    "pyplot.bar(counter.keys(), counter.values())\n",
    "pyplot.show()"
   ]
  },
  {
   "cell_type": "markdown",
   "id": "904df42e",
   "metadata": {},
   "source": [
    "Now we will apply SMOTE, which will over sample the different levels of Crime Rate to have the same number of examples as the the Crime Rate level withy the highest number of data points. In this case that would be the C_Rate level corresponding to the class value of 2."
   ]
  },
  {
   "cell_type": "code",
   "execution_count": 17,
   "id": "d4e89945",
   "metadata": {},
   "outputs": [],
   "source": [
    "oversample = SMOTE()\n",
    "Train_X,Train_y = oversample.fit_resample(Train_X,Train_y)"
   ]
  },
  {
   "cell_type": "code",
   "execution_count": 18,
   "id": "c6e1e959",
   "metadata": {},
   "outputs": [
    {
     "name": "stdout",
     "output_type": "stream",
     "text": [
      "Class=0, n=192 (20.000%)\n",
      "Class=3, n=192 (20.000%)\n",
      "Class=2, n=192 (20.000%)\n",
      "Class=1, n=192 (20.000%)\n",
      "Class=4, n=192 (20.000%)\n"
     ]
    }
   ],
   "source": [
    "counter = Counter(Train_y)\n",
    "for k,v in counter.items():\n",
    "    per = v/len(Train_y)*100\n",
    "    print('Class=%d, n=%d (%.3f%%)' % (k,v,per))\n"
   ]
  },
  {
   "cell_type": "code",
   "execution_count": 19,
   "id": "1b19e308",
   "metadata": {},
   "outputs": [
    {
     "data": {
      "image/png": "[encoded data removed]",
      "text/plain": [
       "<Figure size 432x288 with 1 Axes>"
      ]
     },
     "metadata": {
      "needs_background": "light"
     },
     "output_type": "display_data"
    }
   ],
   "source": [
    "pyplot.bar(counter.keys(), counter.values())\n",
    "pyplot.show()"
   ]
  },
  {
   "cell_type": "code",
   "execution_count": 22,
   "id": "ac9ae108",
   "metadata": {},
   "outputs": [
    {
     "data": {
      "text/plain": [
       "array(['Year', 'N_ID', 'Pop', 'C_Rate', 'Ad_Ed', 'Child_Care',\n",
       "       'Com_House', 'Emp_Res', 'Sub_Trt', 'Trans_House', 'Recreation',\n",
       "       'Inflation', 'NIA', 'C_Rate_Int'], dtype=object)"
      ]
     },
     "execution_count": 22,
     "metadata": {},
     "output_type": "execute_result"
    }
   ],
   "source": [
    "colnames = Train.columns.values\n",
    "colnames"
   ]
  },
  {
   "cell_type": "code",
   "execution_count": 23,
   "id": "2f0e4830",
   "metadata": {},
   "outputs": [],
   "source": [
    "X_names = ['Year', 'N_ID', 'Pop', 'Ad_Ed', 'Child_Care',\n",
    "       'Com_House', 'Emp_Res', 'Sub_Trt', 'Trans_House', 'Recreation',\n",
    "       'Inflation', 'NIA']"
   ]
  },
  {
   "cell_type": "code",
   "execution_count": 24,
   "id": "f13e18ea",
   "metadata": {},
   "outputs": [
    {
     "data": {
      "text/html": [
       "<div>\n",
       "<style scoped>\n",
       "    .dataframe tbody tr th:only-of-type {\n",
       "        vertical-align: middle;\n",
       "    }\n",
       "\n",
       "    .dataframe tbody tr th {\n",
       "        vertical-align: top;\n",
       "    }\n",
       "\n",
       "    .dataframe thead th {\n",
       "        text-align: right;\n",
       "    }\n",
       "</style>\n",
       "<table border=\"1\" class=\"dataframe\">\n",
       "  <thead>\n",
       "    <tr style=\"text-align: right;\">\n",
       "      <th></th>\n",
       "      <th>Year</th>\n",
       "      <th>N_ID</th>\n",
       "      <th>Pop</th>\n",
       "      <th>Ad_Ed</th>\n",
       "      <th>Child_Care</th>\n",
       "      <th>Com_House</th>\n",
       "      <th>Emp_Res</th>\n",
       "      <th>Sub_Trt</th>\n",
       "      <th>Trans_House</th>\n",
       "      <th>Recreation</th>\n",
       "      <th>Inflation</th>\n",
       "      <th>NIA</th>\n",
       "    </tr>\n",
       "  </thead>\n",
       "  <tbody>\n",
       "    <tr>\n",
       "      <th>0</th>\n",
       "      <td>2014.0</td>\n",
       "      <td>97.000000</td>\n",
       "      <td>11197.333377</td>\n",
       "      <td>0.000000</td>\n",
       "      <td>0.0</td>\n",
       "      <td>0.000000</td>\n",
       "      <td>0.000000</td>\n",
       "      <td>0.000000</td>\n",
       "      <td>0.0</td>\n",
       "      <td>0.000000</td>\n",
       "      <td>1.91</td>\n",
       "      <td>0.000000</td>\n",
       "    </tr>\n",
       "    <tr>\n",
       "      <th>1</th>\n",
       "      <td>2014.0</td>\n",
       "      <td>27.000000</td>\n",
       "      <td>25528.887749</td>\n",
       "      <td>0.000000</td>\n",
       "      <td>0.0</td>\n",
       "      <td>4.000000</td>\n",
       "      <td>1.000000</td>\n",
       "      <td>0.000000</td>\n",
       "      <td>0.0</td>\n",
       "      <td>0.000000</td>\n",
       "      <td>1.91</td>\n",
       "      <td>1.000000</td>\n",
       "    </tr>\n",
       "    <tr>\n",
       "      <th>2</th>\n",
       "      <td>2014.0</td>\n",
       "      <td>38.000000</td>\n",
       "      <td>14298.667753</td>\n",
       "      <td>0.000000</td>\n",
       "      <td>0.0</td>\n",
       "      <td>0.000000</td>\n",
       "      <td>1.000000</td>\n",
       "      <td>0.000000</td>\n",
       "      <td>0.0</td>\n",
       "      <td>0.000000</td>\n",
       "      <td>1.91</td>\n",
       "      <td>0.000000</td>\n",
       "    </tr>\n",
       "    <tr>\n",
       "      <th>3</th>\n",
       "      <td>2014.0</td>\n",
       "      <td>31.000000</td>\n",
       "      <td>13508.443828</td>\n",
       "      <td>0.000000</td>\n",
       "      <td>0.0</td>\n",
       "      <td>48.000000</td>\n",
       "      <td>0.000000</td>\n",
       "      <td>0.000000</td>\n",
       "      <td>0.0</td>\n",
       "      <td>0.000000</td>\n",
       "      <td>1.91</td>\n",
       "      <td>0.000000</td>\n",
       "    </tr>\n",
       "    <tr>\n",
       "      <th>4</th>\n",
       "      <td>2014.0</td>\n",
       "      <td>16.000000</td>\n",
       "      <td>22787.557567</td>\n",
       "      <td>0.000000</td>\n",
       "      <td>46.0</td>\n",
       "      <td>0.000000</td>\n",
       "      <td>0.000000</td>\n",
       "      <td>0.000000</td>\n",
       "      <td>0.0</td>\n",
       "      <td>0.000000</td>\n",
       "      <td>1.91</td>\n",
       "      <td>0.000000</td>\n",
       "    </tr>\n",
       "    <tr>\n",
       "      <th>...</th>\n",
       "      <td>...</td>\n",
       "      <td>...</td>\n",
       "      <td>...</td>\n",
       "      <td>...</td>\n",
       "      <td>...</td>\n",
       "      <td>...</td>\n",
       "      <td>...</td>\n",
       "      <td>...</td>\n",
       "      <td>...</td>\n",
       "      <td>...</td>\n",
       "      <td>...</td>\n",
       "      <td>...</td>\n",
       "    </tr>\n",
       "    <tr>\n",
       "      <th>955</th>\n",
       "      <td>2018.0</td>\n",
       "      <td>32.679937</td>\n",
       "      <td>18495.306731</td>\n",
       "      <td>1.669984</td>\n",
       "      <td>0.0</td>\n",
       "      <td>1.995023</td>\n",
       "      <td>1.669984</td>\n",
       "      <td>0.000000</td>\n",
       "      <td>0.0</td>\n",
       "      <td>0.000000</td>\n",
       "      <td>2.27</td>\n",
       "      <td>0.000000</td>\n",
       "    </tr>\n",
       "    <tr>\n",
       "      <th>956</th>\n",
       "      <td>2018.0</td>\n",
       "      <td>118.062242</td>\n",
       "      <td>29022.287218</td>\n",
       "      <td>1.062242</td>\n",
       "      <td>0.0</td>\n",
       "      <td>14.502067</td>\n",
       "      <td>3.000000</td>\n",
       "      <td>0.000000</td>\n",
       "      <td>0.0</td>\n",
       "      <td>0.000000</td>\n",
       "      <td>2.27</td>\n",
       "      <td>0.000000</td>\n",
       "    </tr>\n",
       "    <tr>\n",
       "      <th>957</th>\n",
       "      <td>2018.0</td>\n",
       "      <td>109.149515</td>\n",
       "      <td>19328.014942</td>\n",
       "      <td>1.110014</td>\n",
       "      <td>0.0</td>\n",
       "      <td>10.141025</td>\n",
       "      <td>2.110014</td>\n",
       "      <td>0.110014</td>\n",
       "      <td>0.0</td>\n",
       "      <td>1.210152</td>\n",
       "      <td>2.27</td>\n",
       "      <td>0.889986</td>\n",
       "    </tr>\n",
       "    <tr>\n",
       "      <th>958</th>\n",
       "      <td>2018.0</td>\n",
       "      <td>99.527753</td>\n",
       "      <td>25979.751714</td>\n",
       "      <td>0.000000</td>\n",
       "      <td>0.0</td>\n",
       "      <td>0.000000</td>\n",
       "      <td>0.000000</td>\n",
       "      <td>0.794097</td>\n",
       "      <td>0.0</td>\n",
       "      <td>0.205903</td>\n",
       "      <td>2.27</td>\n",
       "      <td>0.000000</td>\n",
       "    </tr>\n",
       "    <tr>\n",
       "      <th>959</th>\n",
       "      <td>2018.0</td>\n",
       "      <td>108.303643</td>\n",
       "      <td>29194.460983</td>\n",
       "      <td>1.000000</td>\n",
       "      <td>0.0</td>\n",
       "      <td>12.229612</td>\n",
       "      <td>4.154328</td>\n",
       "      <td>0.461731</td>\n",
       "      <td>0.0</td>\n",
       "      <td>0.923463</td>\n",
       "      <td>2.27</td>\n",
       "      <td>0.000000</td>\n",
       "    </tr>\n",
       "  </tbody>\n",
       "</table>\n",
       "<p>960 rows × 12 columns</p>\n",
       "</div>"
      ],
      "text/plain": [
       "       Year        N_ID           Pop     Ad_Ed  Child_Care  Com_House  \\\n",
       "0    2014.0   97.000000  11197.333377  0.000000         0.0   0.000000   \n",
       "1    2014.0   27.000000  25528.887749  0.000000         0.0   4.000000   \n",
       "2    2014.0   38.000000  14298.667753  0.000000         0.0   0.000000   \n",
       "3    2014.0   31.000000  13508.443828  0.000000         0.0  48.000000   \n",
       "4    2014.0   16.000000  22787.557567  0.000000        46.0   0.000000   \n",
       "..      ...         ...           ...       ...         ...        ...   \n",
       "955  2018.0   32.679937  18495.306731  1.669984         0.0   1.995023   \n",
       "956  2018.0  118.062242  29022.287218  1.062242         0.0  14.502067   \n",
       "957  2018.0  109.149515  19328.014942  1.110014         0.0  10.141025   \n",
       "958  2018.0   99.527753  25979.751714  0.000000         0.0   0.000000   \n",
       "959  2018.0  108.303643  29194.460983  1.000000         0.0  12.229612   \n",
       "\n",
       "      Emp_Res   Sub_Trt  Trans_House  Recreation  Inflation       NIA  \n",
       "0    0.000000  0.000000          0.0    0.000000       1.91  0.000000  \n",
       "1    1.000000  0.000000          0.0    0.000000       1.91  1.000000  \n",
       "2    1.000000  0.000000          0.0    0.000000       1.91  0.000000  \n",
       "3    0.000000  0.000000          0.0    0.000000       1.91  0.000000  \n",
       "4    0.000000  0.000000          0.0    0.000000       1.91  0.000000  \n",
       "..        ...       ...          ...         ...        ...       ...  \n",
       "955  1.669984  0.000000          0.0    0.000000       2.27  0.000000  \n",
       "956  3.000000  0.000000          0.0    0.000000       2.27  0.000000  \n",
       "957  2.110014  0.110014          0.0    1.210152       2.27  0.889986  \n",
       "958  0.000000  0.794097          0.0    0.205903       2.27  0.000000  \n",
       "959  4.154328  0.461731          0.0    0.923463       2.27  0.000000  \n",
       "\n",
       "[960 rows x 12 columns]"
      ]
     },
     "execution_count": 24,
     "metadata": {},
     "output_type": "execute_result"
    }
   ],
   "source": [
    "SMOTE_data = pd.DataFrame(Train_X, columns = X_names)\n",
    "SMOTE_data"
   ]
  },
  {
   "cell_type": "code",
   "execution_count": 25,
   "id": "220f5a75",
   "metadata": {},
   "outputs": [],
   "source": [
    "SMOTE_data['C_Rate'] = Train_y"
   ]
  },
  {
   "cell_type": "code",
   "execution_count": 26,
   "id": "7a5e4bfd",
   "metadata": {},
   "outputs": [
    {
     "data": {
      "text/html": [
       "<div>\n",
       "<style scoped>\n",
       "    .dataframe tbody tr th:only-of-type {\n",
       "        vertical-align: middle;\n",
       "    }\n",
       "\n",
       "    .dataframe tbody tr th {\n",
       "        vertical-align: top;\n",
       "    }\n",
       "\n",
       "    .dataframe thead th {\n",
       "        text-align: right;\n",
       "    }\n",
       "</style>\n",
       "<table border=\"1\" class=\"dataframe\">\n",
       "  <thead>\n",
       "    <tr style=\"text-align: right;\">\n",
       "      <th></th>\n",
       "      <th>Year</th>\n",
       "      <th>N_ID</th>\n",
       "      <th>Pop</th>\n",
       "      <th>Ad_Ed</th>\n",
       "      <th>Child_Care</th>\n",
       "      <th>Com_House</th>\n",
       "      <th>Emp_Res</th>\n",
       "      <th>Sub_Trt</th>\n",
       "      <th>Trans_House</th>\n",
       "      <th>Recreation</th>\n",
       "      <th>Inflation</th>\n",
       "      <th>NIA</th>\n",
       "      <th>C_Rate</th>\n",
       "    </tr>\n",
       "  </thead>\n",
       "  <tbody>\n",
       "    <tr>\n",
       "      <th>0</th>\n",
       "      <td>2014.0</td>\n",
       "      <td>97.000000</td>\n",
       "      <td>11197.333377</td>\n",
       "      <td>0.000000</td>\n",
       "      <td>0.0</td>\n",
       "      <td>0.000000</td>\n",
       "      <td>0.000000</td>\n",
       "      <td>0.000000</td>\n",
       "      <td>0.0</td>\n",
       "      <td>0.000000</td>\n",
       "      <td>1.91</td>\n",
       "      <td>0.000000</td>\n",
       "      <td>0</td>\n",
       "    </tr>\n",
       "    <tr>\n",
       "      <th>1</th>\n",
       "      <td>2014.0</td>\n",
       "      <td>27.000000</td>\n",
       "      <td>25528.887749</td>\n",
       "      <td>0.000000</td>\n",
       "      <td>0.0</td>\n",
       "      <td>4.000000</td>\n",
       "      <td>1.000000</td>\n",
       "      <td>0.000000</td>\n",
       "      <td>0.0</td>\n",
       "      <td>0.000000</td>\n",
       "      <td>1.91</td>\n",
       "      <td>1.000000</td>\n",
       "      <td>3</td>\n",
       "    </tr>\n",
       "    <tr>\n",
       "      <th>2</th>\n",
       "      <td>2014.0</td>\n",
       "      <td>38.000000</td>\n",
       "      <td>14298.667753</td>\n",
       "      <td>0.000000</td>\n",
       "      <td>0.0</td>\n",
       "      <td>0.000000</td>\n",
       "      <td>1.000000</td>\n",
       "      <td>0.000000</td>\n",
       "      <td>0.0</td>\n",
       "      <td>0.000000</td>\n",
       "      <td>1.91</td>\n",
       "      <td>0.000000</td>\n",
       "      <td>2</td>\n",
       "    </tr>\n",
       "    <tr>\n",
       "      <th>3</th>\n",
       "      <td>2014.0</td>\n",
       "      <td>31.000000</td>\n",
       "      <td>13508.443828</td>\n",
       "      <td>0.000000</td>\n",
       "      <td>0.0</td>\n",
       "      <td>48.000000</td>\n",
       "      <td>0.000000</td>\n",
       "      <td>0.000000</td>\n",
       "      <td>0.0</td>\n",
       "      <td>0.000000</td>\n",
       "      <td>1.91</td>\n",
       "      <td>0.000000</td>\n",
       "      <td>3</td>\n",
       "    </tr>\n",
       "    <tr>\n",
       "      <th>4</th>\n",
       "      <td>2014.0</td>\n",
       "      <td>16.000000</td>\n",
       "      <td>22787.557567</td>\n",
       "      <td>0.000000</td>\n",
       "      <td>46.0</td>\n",
       "      <td>0.000000</td>\n",
       "      <td>0.000000</td>\n",
       "      <td>0.000000</td>\n",
       "      <td>0.0</td>\n",
       "      <td>0.000000</td>\n",
       "      <td>1.91</td>\n",
       "      <td>0.000000</td>\n",
       "      <td>1</td>\n",
       "    </tr>\n",
       "    <tr>\n",
       "      <th>...</th>\n",
       "      <td>...</td>\n",
       "      <td>...</td>\n",
       "      <td>...</td>\n",
       "      <td>...</td>\n",
       "      <td>...</td>\n",
       "      <td>...</td>\n",
       "      <td>...</td>\n",
       "      <td>...</td>\n",
       "      <td>...</td>\n",
       "      <td>...</td>\n",
       "      <td>...</td>\n",
       "      <td>...</td>\n",
       "      <td>...</td>\n",
       "    </tr>\n",
       "    <tr>\n",
       "      <th>955</th>\n",
       "      <td>2018.0</td>\n",
       "      <td>32.679937</td>\n",
       "      <td>18495.306731</td>\n",
       "      <td>1.669984</td>\n",
       "      <td>0.0</td>\n",
       "      <td>1.995023</td>\n",
       "      <td>1.669984</td>\n",
       "      <td>0.000000</td>\n",
       "      <td>0.0</td>\n",
       "      <td>0.000000</td>\n",
       "      <td>2.27</td>\n",
       "      <td>0.000000</td>\n",
       "      <td>4</td>\n",
       "    </tr>\n",
       "    <tr>\n",
       "      <th>956</th>\n",
       "      <td>2018.0</td>\n",
       "      <td>118.062242</td>\n",
       "      <td>29022.287218</td>\n",
       "      <td>1.062242</td>\n",
       "      <td>0.0</td>\n",
       "      <td>14.502067</td>\n",
       "      <td>3.000000</td>\n",
       "      <td>0.000000</td>\n",
       "      <td>0.0</td>\n",
       "      <td>0.000000</td>\n",
       "      <td>2.27</td>\n",
       "      <td>0.000000</td>\n",
       "      <td>4</td>\n",
       "    </tr>\n",
       "    <tr>\n",
       "      <th>957</th>\n",
       "      <td>2018.0</td>\n",
       "      <td>109.149515</td>\n",
       "      <td>19328.014942</td>\n",
       "      <td>1.110014</td>\n",
       "      <td>0.0</td>\n",
       "      <td>10.141025</td>\n",
       "      <td>2.110014</td>\n",
       "      <td>0.110014</td>\n",
       "      <td>0.0</td>\n",
       "      <td>1.210152</td>\n",
       "      <td>2.27</td>\n",
       "      <td>0.889986</td>\n",
       "      <td>4</td>\n",
       "    </tr>\n",
       "    <tr>\n",
       "      <th>958</th>\n",
       "      <td>2018.0</td>\n",
       "      <td>99.527753</td>\n",
       "      <td>25979.751714</td>\n",
       "      <td>0.000000</td>\n",
       "      <td>0.0</td>\n",
       "      <td>0.000000</td>\n",
       "      <td>0.000000</td>\n",
       "      <td>0.794097</td>\n",
       "      <td>0.0</td>\n",
       "      <td>0.205903</td>\n",
       "      <td>2.27</td>\n",
       "      <td>0.000000</td>\n",
       "      <td>4</td>\n",
       "    </tr>\n",
       "    <tr>\n",
       "      <th>959</th>\n",
       "      <td>2018.0</td>\n",
       "      <td>108.303643</td>\n",
       "      <td>29194.460983</td>\n",
       "      <td>1.000000</td>\n",
       "      <td>0.0</td>\n",
       "      <td>12.229612</td>\n",
       "      <td>4.154328</td>\n",
       "      <td>0.461731</td>\n",
       "      <td>0.0</td>\n",
       "      <td>0.923463</td>\n",
       "      <td>2.27</td>\n",
       "      <td>0.000000</td>\n",
       "      <td>4</td>\n",
       "    </tr>\n",
       "  </tbody>\n",
       "</table>\n",
       "<p>960 rows × 13 columns</p>\n",
       "</div>"
      ],
      "text/plain": [
       "       Year        N_ID           Pop     Ad_Ed  Child_Care  Com_House  \\\n",
       "0    2014.0   97.000000  11197.333377  0.000000         0.0   0.000000   \n",
       "1    2014.0   27.000000  25528.887749  0.000000         0.0   4.000000   \n",
       "2    2014.0   38.000000  14298.667753  0.000000         0.0   0.000000   \n",
       "3    2014.0   31.000000  13508.443828  0.000000         0.0  48.000000   \n",
       "4    2014.0   16.000000  22787.557567  0.000000        46.0   0.000000   \n",
       "..      ...         ...           ...       ...         ...        ...   \n",
       "955  2018.0   32.679937  18495.306731  1.669984         0.0   1.995023   \n",
       "956  2018.0  118.062242  29022.287218  1.062242         0.0  14.502067   \n",
       "957  2018.0  109.149515  19328.014942  1.110014         0.0  10.141025   \n",
       "958  2018.0   99.527753  25979.751714  0.000000         0.0   0.000000   \n",
       "959  2018.0  108.303643  29194.460983  1.000000         0.0  12.229612   \n",
       "\n",
       "      Emp_Res   Sub_Trt  Trans_House  Recreation  Inflation       NIA  C_Rate  \n",
       "0    0.000000  0.000000          0.0    0.000000       1.91  0.000000       0  \n",
       "1    1.000000  0.000000          0.0    0.000000       1.91  1.000000       3  \n",
       "2    1.000000  0.000000          0.0    0.000000       1.91  0.000000       2  \n",
       "3    0.000000  0.000000          0.0    0.000000       1.91  0.000000       3  \n",
       "4    0.000000  0.000000          0.0    0.000000       1.91  0.000000       1  \n",
       "..        ...       ...          ...         ...        ...       ...     ...  \n",
       "955  1.669984  0.000000          0.0    0.000000       2.27  0.000000       4  \n",
       "956  3.000000  0.000000          0.0    0.000000       2.27  0.000000       4  \n",
       "957  2.110014  0.110014          0.0    1.210152       2.27  0.889986       4  \n",
       "958  0.000000  0.794097          0.0    0.205903       2.27  0.000000       4  \n",
       "959  4.154328  0.461731          0.0    0.923463       2.27  0.000000       4  \n",
       "\n",
       "[960 rows x 13 columns]"
      ]
     },
     "execution_count": 26,
     "metadata": {},
     "output_type": "execute_result"
    }
   ],
   "source": [
    "SMOTE_data"
   ]
  },
  {
   "cell_type": "code",
   "execution_count": 28,
   "id": "db8ebec6",
   "metadata": {},
   "outputs": [],
   "source": [
    "SMOTE_data.to_csv('//Users/alyzehjiwani/Downloads/Data/Final Data Used/Year_Gap_SMOTE_Train_data.csv')"
   ]
  },
  {
   "cell_type": "markdown",
   "id": "3d43c2bc",
   "metadata": {},
   "source": [
    "Now that we have our new dataset with our synthesised data we will rerun our models to see if there is any change in our model effectiveness."
   ]
  },
  {
   "cell_type": "code",
   "execution_count": null,
   "id": "6ff2ef97",
   "metadata": {},
   "outputs": [],
   "source": []
  }
 ],
 "metadata": {
  "kernelspec": {
   "display_name": "Python 3 (ipykernel)",
   "language": "python",
   "name": "python3"
  },
  "language_info": {
   "codemirror_mode": {
    "name": "ipython",
    "version": 3
   },
   "file_extension": ".py",
   "mimetype": "text/x-python",
   "name": "python",
   "nbconvert_exporter": "python",
   "pygments_lexer": "ipython3",
   "version": "3.10.1"
  }
 },
 "nbformat": 4,
 "nbformat_minor": 5
}
